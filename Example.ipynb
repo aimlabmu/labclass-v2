{
 "cells": [
  {
   "cell_type": "markdown",
   "metadata": {},
   "source": [
    "# Example\n",
    "\n",
    "3 Things to do: Load, Process and Visualize data from `datasets/`."
   ]
  },
  {
   "cell_type": "code",
   "execution_count": null,
   "metadata": {
    "scrolled": true
   },
   "outputs": [],
   "source": [
    "# list all files in folder `dataset`\n",
    "%ls \"./datasets\""
   ]
  },
  {
   "cell_type": "code",
   "execution_count": null,
   "metadata": {},
   "outputs": [],
   "source": [
    "# import necessary packages\n",
    "from os import path\n",
    "\n",
    "import numpy as np\n",
    "import pandas as pd\n",
    "import matplotlib.pyplot as plt"
   ]
  },
  {
   "cell_type": "markdown",
   "metadata": {},
   "source": [
    "## Load data"
   ]
  },
  {
   "cell_type": "code",
   "execution_count": null,
   "metadata": {},
   "outputs": [],
   "source": [
    "# This function is used to get full data path (dp) from data file name.\n",
    "def dp(dataFileName):\n",
    "    return path.join('datasets', dataFileName)"
   ]
  },
  {
   "cell_type": "markdown",
   "metadata": {},
   "source": [
    "## Starbucks drinkMenu\n",
    "\n",
    "source: [kaggle](https://www.kaggle.com/ashishpatel26/starbucks_drinkmenu_expanded)"
   ]
  },
  {
   "cell_type": "code",
   "execution_count": null,
   "metadata": {},
   "outputs": [],
   "source": [
    "fileName = 'starbucks_drinkMenu_expanded.csv' # I'm gonna use starbucks's file here\n",
    "df = pd.read_csv(dp(fileName), encoding='utf-8')\n",
    "# import Data to array df"
   ]
  },
  {
   "cell_type": "code",
   "execution_count": null,
   "metadata": {
    "scrolled": false
   },
   "outputs": [],
   "source": [
    "# Let's see how our dataframe looks like\n",
    "df"
   ]
  },
  {
   "cell_type": "code",
   "execution_count": null,
   "metadata": {},
   "outputs": [],
   "source": [
    "# Let's look at the various columns\n",
    "df.info()\n"
   ]
  },
  {
   "cell_type": "code",
   "execution_count": null,
   "metadata": {},
   "outputs": [],
   "source": [
    "# sort values by 'Calories' column\n",
    "result =  df.sort_values(by=['Calories'],ascending=False)\n",
    "result"
   ]
  },
  {
   "cell_type": "code",
   "execution_count": null,
   "metadata": {
    "scrolled": true
   },
   "outputs": [],
   "source": [
    "# choose top 10 highest calories drinks\n",
    "top10cal=result.iloc[0:10,:]\n",
    "top10cal\n"
   ]
  },
  {
   "cell_type": "code",
   "execution_count": null,
   "metadata": {},
   "outputs": [],
   "source": [
    "# set Beverage_category as index\n",
    "top10cal=top10cal.set_index('Beverage_category')\n",
    "top10cal"
   ]
  },
  {
   "cell_type": "code",
   "execution_count": null,
   "metadata": {},
   "outputs": [],
   "source": [
    "# plot Top 10 Calories of Beverage_category\n",
    "toptenplot =top10cal['Calories'].plot(kind='bar', figsize=(18,10), fontsize=12)\n",
    "plt.xlabel(toptenplot.get_xlabel(), fontsize=20)\n",
    "plt.ylabel('Top 10 Calories of Beverage_category', fontsize=20)\n",
    "plt.title('Top 10 Calories of Beverage_category', fontsize=32)\n"
   ]
  },
  {
   "cell_type": "code",
   "execution_count": null,
   "metadata": {},
   "outputs": [],
   "source": [
    "Cal = df.groupby(['Beverage_category']).mean()\n",
    "Cal"
   ]
  },
  {
   "cell_type": "code",
   "execution_count": null,
   "metadata": {},
   "outputs": [],
   "source": [
    "pt = Cal['Calories'].plot(kind='bar', figsize=(18,8), fontsize=12)\n",
    "plt.xlabel(pt.get_xlabel(), fontsize=22)\n",
    "plt.ylabel('Calories', fontsize=22)\n",
    "plt.title('Average calories of each beverage', fontsize=30)"
   ]
  },
  {
   "cell_type": "code",
   "execution_count": null,
   "metadata": {},
   "outputs": [],
   "source": [
    "sort = Cal.sort_values(by=['Calories'],ascending=False)\n",
    "sort"
   ]
  },
  {
   "cell_type": "code",
   "execution_count": null,
   "metadata": {
    "scrolled": false
   },
   "outputs": [],
   "source": [
    "pt2 = sort['Calories'].plot(kind='bar', figsize=(18,8), fontsize=12)\n",
    "plt.xlabel(pt.get_xlabel(), fontsize=22)\n",
    "plt.ylabel('Calories', fontsize=22)\n",
    "plt.title('Average calories of each beverage', fontsize=30)"
   ]
  },
  {
   "cell_type": "markdown",
   "metadata": {},
   "source": [
    "## Top Spotify Tracks of 2017\n",
    "At the end of each year, Spotify compiles a playlist of the songs streamed most often over the course of that year. This year's playlist (Top Tracks of 2017) included 100 songs. The question is: What do these top songs have in common? Why do people like them?\n",
    "\n",
    "Original Data Source: The audio features for each song were extracted using the Spotify Web API and the spotipy Python library. Credit goes to Spotify for calculating the audio feature values.\n",
    "\n",
    "Data Description: There is one .csv file in the dataset. (featuresdf.csv) This file includes:\n",
    "\n",
    "Spotify URI for the song\n",
    "Name of the song\n",
    "Artist(s) of the song\n",
    "Audio features for the song (such as danceability, tempo, key etc.)\n",
    "\n",
    "source: [kaggle](https://www.kaggle.com/nadintamer/top-tracks-of-2017)"
   ]
  },
  {
   "cell_type": "code",
   "execution_count": null,
   "metadata": {},
   "outputs": [],
   "source": [
    "spotify_data = pd.read_csv(dp('top-tracks-of-2017.csv'), encoding='utf-8')\n",
    "spotify_data"
   ]
  },
  {
   "cell_type": "code",
   "execution_count": null,
   "metadata": {
    "scrolled": true
   },
   "outputs": [],
   "source": [
    "#นับจำนวนเพลงของศิลปินแต่ละคน\n",
    "count_artist=spotify_data.groupby(['artists']).size().reset_index(name='counts')\n",
    "count_artist\n"
   ]
  },
  {
   "cell_type": "code",
   "execution_count": null,
   "metadata": {},
   "outputs": [],
   "source": [
    "#เรียงลำดับจากมากไปน้อย\n",
    "count_artist.sort_values(by=['counts'], ascending=False)"
   ]
  },
  {
   "cell_type": "code",
   "execution_count": null,
   "metadata": {},
   "outputs": [],
   "source": [
    "#แสดงชื่อเพลงของคนที่ได้มากที่สุด คนแรก\n",
    "spotify_data.loc[spotify_data['artists']=='Ed Sheeran']"
   ]
  },
  {
   "cell_type": "code",
   "execution_count": null,
   "metadata": {},
   "outputs": [],
   "source": [
    "spotify_data.loc[spotify_data['artists']=='The Chainsmokers']"
   ]
  }
 ],
 "metadata": {
  "kernelspec": {
   "display_name": "Python 3",
   "language": "python",
   "name": "python3"
  },
  "language_info": {
   "codemirror_mode": {
    "name": "ipython",
    "version": 3
   },
   "file_extension": ".py",
   "mimetype": "text/x-python",
   "name": "python",
   "nbconvert_exporter": "python",
   "pygments_lexer": "ipython3",
   "version": "3.7.2"
  }
 },
 "nbformat": 4,
 "nbformat_minor": 2
}
