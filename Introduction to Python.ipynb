{
 "cells": [
  {
   "cell_type": "markdown",
   "metadata": {},
   "source": [
    "# Table of Contents\n",
    "\n",
    "- [Python](#Python)\n",
    "    - [What is Python?](#What-is-Python)\n",
    "    - [Why should you know Python?](#Why-should-you-know-Python?)\n",
    "    - [Where can I get it?](#Where-can-I-get-it?)\n",
    "        \n",
    "- [Jupyter Notebook](#Jupyter-Notebook)\n",
    "    - [What is Jupyter Notebook?](#What-is-Jupyter-Notebook?)\n",
    "    - [How to use it?](#How-to-use-it?)\n",
    "    \n",
    "    \n",
    "- [Let's code](#Let's-code)\n",
    "    - [Introduction to Python](#Introduction-to-Python)\n",
    "        - [Numbers](#Numbers)\n",
    "        - [Strings](#Strings)\n",
    "        - [Lists](#Lists)\n",
    "        - [While statements](#While-statements)\n",
    "        - [If statements](#If-statements)\n",
    "        - [For statements](#For-statements)\n",
    "        - [Defining functions](#Defining-functions)\n",
    "    - [Mathematics and Statistics packages](#Mathematics-and-Statistics-packages)\n",
    "        - [NumPy](#NumPy)\n",
    "        - [pandas](#pandas)\n",
    "        - [Matplotlib](#Matplotlib)\n",
    " \n",
    "- [Mini Challenge](#Mini-Challenge)\n",
    " \n",
    "- [Assignment](#Assignment)\n",
    "\n",
    "- [FAQs](#FAQs)\n",
    "\n",
    "- [Learning Materials](#Learning-Materials)"
   ]
  },
  {
   "cell_type": "markdown",
   "metadata": {},
   "source": [
    "# Python\n",
    "\n",
    "## What is Python \n",
    "Python is a programming language that lets you work quickly and integrate systems more effectively. It's simple, easy to learn syntax emphasizes readability and therefore reduces the cost of program maintenance. Python supports modules and packages, which encourages program modularity and code reuse. The Python interpreter and the extensive standard library are available in source or binary form without charge for all major platforms, and can be freely distributed. [Python.org](https://www.python.org/):\n",
    "\n",
    "\n",
    "## Why should you know Python?\n",
    "In academic and research we can use Python and its lots of labraries to do wide range of things from basic calculation to complex statistical methods including machine learning. Since it is open-source, it is free to use.\n",
    "\n",
    "\n",
    "## Where can I get it?\n",
    "\n",
    "There are many ways to install Python and its libraries. However, we are going to guide you in a pretty stable way, Anaconda.\n",
    "\n",
    "#### Anaconda Cloud\n",
    "\n",
    "Anaconda is a platform for Python that bundles most of the essential packages required in research. You can download it from [here](https://www.anaconda.com/download/). \\*_Note that we will use Python version 3.x in this course._\\*\n",
    "\n",
    "> [Anaconda.org](https://anaconda.org/):\n",
    "\n",
    "> Anaconda Cloud is where data scientists share their work. You can search and download popular Python and R packages and notebooks to jumpstart your data science work.\n",
    "\n",
    "#### Package Managers\n",
    "\n",
    "We do not need to install any additional packages in this class. However, when you need it in the future recall these two names: `pip` and `conda`. For more information you can check [this](https://conda.io/docs/user-guide/tasks/manage-pkgs.html#installing-packages) out.\n",
    "\n",
    "\n",
    "\n",
    "\n",
    "# Jupyter Notebook\n",
    "\n",
    "## What is Jupyter Notebook?\n",
    "\n",
    "The Jupyter Notebook is an open-source web application that allows you to create and share documents that contain live code, equations, visualizations and narrative text. Uses include: data cleaning and transformation, numerical simulation, statistical modeling, data visualization, machine learning, and much more. Here are a few examples of Jupyter Notebooks projects:\n",
    "\n",
    "- [Machine Learning](https://nbviewer.jupyter.org/github/rhiever/Data-Analysis-and-Machine-Learning-Projects/blob/master/example-data-science-notebook/Example%2520Machine%2520Learning%2520Notebook.ipynb)\n",
    "- [Signal Processing](https://www.gw-openscience.org/s/events/GW150914/GW150914_tutorial.html)\n",
    "\n",
    "## How to use it?\n",
    "\n",
    "This section will list the most used command shortcuts. For full version of docs you can visit [The Jupyter Notebook documentation](http://jupyter-notebook.readthedocs.io/en/latest/notebook.html).\n",
    "\n",
    "\n",
    "- `arrows` : _move cursor_\n",
    "- `enter` : _enter edit mode_\n",
    "- `esc` : _quit edit mode_\n",
    "- `y` : _change cell to code mode_\n",
    "- `m` : _change cell to markdown mode_\n",
    "- `ctrl` + `enter` : _run selected cell_\n",
    "- `shift` + `enter` : _run selected cell and move cursor to the next cell_\n",
    "- `h` : _open help panel, list of shortcuts_"
   ]
  },
  {
   "cell_type": "markdown",
   "metadata": {},
   "source": [
    "# Let's code\n",
    "\n",
    "\n",
    "## Introduction to Python\n",
    "\n",
    "Here we will try to write some Python built-in functions to get how it works. This is brought from official Python website. For more information follow the [official tutorial](https://docs.python.org/3/tutorial/).\n",
    "\n"
   ]
  },
  {
   "cell_type": "code",
   "execution_count": null,
   "metadata": {},
   "outputs": [],
   "source": [
    "# print function\n",
    "print(\"Hello, I'm Python!\")"
   ]
  },
  {
   "cell_type": "markdown",
   "metadata": {},
   "source": [
    "### Numbers"
   ]
  },
  {
   "cell_type": "code",
   "execution_count": null,
   "metadata": {
    "scrolled": true
   },
   "outputs": [],
   "source": [
    "# arithmatic\n",
    "print(1+3) # plus\n",
    "print(2-1) # minus\n",
    "print(3*6) # multiply\n",
    "print(2**3) # power\n",
    "print(17/3) # divide\n",
    "print(17//3) # floor divide\n",
    "print(10%3) #modulo\n",
    "print(abs(-5)) #absolute\n",
    "print(max(6,5)) #max value"
   ]
  },
  {
   "cell_type": "code",
   "execution_count": null,
   "metadata": {},
   "outputs": [],
   "source": [
    "a = 3\n",
    "print(\"a+2=\",a+2)"
   ]
  },
  {
   "cell_type": "code",
   "execution_count": null,
   "metadata": {},
   "outputs": [],
   "source": [
    "x = 1\n",
    "y = 2\n",
    "z = x+y\n",
    "print(z)\n",
    "print(max(x,y))"
   ]
  },
  {
   "cell_type": "markdown",
   "metadata": {},
   "source": [
    "### Strings"
   ]
  },
  {
   "cell_type": "code",
   "execution_count": null,
   "metadata": {},
   "outputs": [],
   "source": [
    "phrase = \"I am your father\"\n",
    "phrase1 = \"Nooo!\"\n",
    "print(phrase.upper()+ phrase1.lower())\n",
    "print(len(phrase))\n",
    "print(phrase[5])\n",
    "print(phrase[-1]) # last character\n",
    "print(phrase[-2]) # second-last character\n",
    "print(phrase[0:4])# characters from position 0 (included) to 4 (excluded)\n",
    "print(phrase[10:]) # characters from position 10 (included) to the end\n",
    "print(len(phrase)) # returns the length of a string"
   ]
  },
  {
   "cell_type": "markdown",
   "metadata": {},
   "source": [
    "### Lists"
   ]
  },
  {
   "cell_type": "code",
   "execution_count": null,
   "metadata": {},
   "outputs": [],
   "source": [
    "fruits = ['Banana', 'Apple', 'Lime','Watermelon','Papaya','Banana']\n",
    "print(fruits)\n",
    "print(fruits[0]) # indexing returns the item\n",
    "print(fruits[-1]) # last item\n",
    "print(fruits[1:4]) # return new list contain items index 1 (included) to 4 (excluded)\n",
    "print(fruits[:3])"
   ]
  },
  {
   "cell_type": "code",
   "execution_count": null,
   "metadata": {
    "scrolled": true
   },
   "outputs": [],
   "source": [
    "fruits = ['Banana', 'Apple', 'Lime','Watermelon','Papaya','Banana']\n",
    "fruits.pop() # remove last items of the list\n",
    "print(\"pop:\", fruits)\n",
    "fruits.append('Pineapple') # add new items at the end of the list\n",
    "print(\"append:\", fruits)\n",
    "fruits.insert(1, 'Mango') # insert item into the list\n",
    "print(\"insert:\", fruits)\n",
    "fruits.remove('Apple')\n",
    "print(\"remove:\", fruits)"
   ]
  },
  {
   "cell_type": "code",
   "execution_count": null,
   "metadata": {},
   "outputs": [],
   "source": [
    "cubes = [1, 8, 27, 65, 125]\n",
    "cubes[3] = 64 # replace item at index 3\n",
    "cubes"
   ]
  },
  {
   "cell_type": "code",
   "execution_count": null,
   "metadata": {},
   "outputs": [],
   "source": [
    "letters = ['a', 'b', 'c', 'd', 'e', 'f', 'g']\n",
    "letters[2:5] = ['C', 'D', 'E'] # replace some values\n",
    "letters"
   ]
  },
  {
   "cell_type": "code",
   "execution_count": null,
   "metadata": {
    "scrolled": true
   },
   "outputs": [],
   "source": [
    "# concatenated (glued together) with the + operator\n",
    "fruits = ['Banana', 'Apple', 'Lime','Watermelon','Papaya','Banana']\n",
    "vegetables = ['Tomato','Broccoli']\n",
    "print(fruits+vegetables)"
   ]
  },
  {
   "cell_type": "markdown",
   "metadata": {},
   "source": [
    "### While statements"
   ]
  },
  {
   "cell_type": "code",
   "execution_count": null,
   "metadata": {},
   "outputs": [],
   "source": [
    "# Fibonacci series:\n",
    "# the sum of two elements defines the next\n",
    "a, b = 0, 1\n",
    "while a < 10:\n",
    "    print(a, end = ' ')\n",
    "    a, b = b, a+b\n"
   ]
  },
  {
   "cell_type": "markdown",
   "metadata": {},
   "source": [
    "### If statements"
   ]
  },
  {
   "cell_type": "code",
   "execution_count": null,
   "metadata": {},
   "outputs": [],
   "source": [
    "x = -1\n",
    "\n",
    "if x < 0:\n",
    "    x = 0\n",
    "    print('Negative changed to zero')\n",
    "elif x == 0:\n",
    "    print('Zero')\n",
    "elif x == 1:\n",
    "    print('Single')\n",
    "else:\n",
    "    print('More')"
   ]
  },
  {
   "cell_type": "markdown",
   "metadata": {},
   "source": [
    "### For statements"
   ]
  },
  {
   "cell_type": "code",
   "execution_count": null,
   "metadata": {},
   "outputs": [],
   "source": [
    "words = ['cat', 'window', 'defenestrate']\n",
    "for w in words:\n",
    "    print(w, len(w))\n",
    "\n",
    "# Loop over a slice copy of the entire list.\n",
    "# if length of being looped word longer than 6\n",
    "# insert this word to index 0 of the list\n",
    "for w in words[:]:  \n",
    "    if len(w) > 6:\n",
    "        words.insert(0, w)\n",
    "print(\"inserted list:\", words)"
   ]
  },
  {
   "cell_type": "code",
   "execution_count": null,
   "metadata": {},
   "outputs": [],
   "source": [
    "for i in range(5):\n",
    "    print(i)\n",
    "    \n",
    "a = ['Mary', 'had', 'a', 'little', 'lamb']\n",
    "for i in range(len(a)):\n",
    "    print(i, a[i])"
   ]
  },
  {
   "cell_type": "code",
   "execution_count": null,
   "metadata": {},
   "outputs": [],
   "source": [
    "for n in range(2, 10):\n",
    "    for x in range(2, n):\n",
    "        if n % x == 0:\n",
    "            print(n, 'equals', x, '*', n//x)\n",
    "            break\n",
    "    else:\n",
    "        print(n, 'is a prime number')"
   ]
  },
  {
   "cell_type": "code",
   "execution_count": null,
   "metadata": {},
   "outputs": [],
   "source": [
    "for num in range(2, 10):\n",
    "    if num % 2 == 0:\n",
    "        print(\"Found an even number\", num)\n",
    "        continue\n",
    "    print(\"Found a number\", num)\n"
   ]
  },
  {
   "cell_type": "markdown",
   "metadata": {},
   "source": [
    "### Defining functions"
   ]
  },
  {
   "cell_type": "code",
   "execution_count": null,
   "metadata": {},
   "outputs": [],
   "source": [
    "# Python 3: Fibonacci series up to n\n",
    "def fib(n):\n",
    "    a, b = 0, 1\n",
    "    while a < n:\n",
    "        print(a, end=' ')\n",
    "        a, b = b, a+b\n",
    "    print()\n",
    "    \n",
    "fib(1000)"
   ]
  },
  {
   "cell_type": "code",
   "execution_count": null,
   "metadata": {
    "scrolled": true
   },
   "outputs": [],
   "source": [
    "def ask_ok(prompt, retries=4, reminder='Please try again!'):\n",
    "    while True:\n",
    "        ok = input(prompt)\n",
    "        if ok in ('y', 'ye', 'yes'):\n",
    "            return True\n",
    "        if ok in ('n', 'no', 'nop', 'nope'):\n",
    "            return False\n",
    "        retries = retries - 1\n",
    "        if retries < 0:\n",
    "            return 'invalid user response'\n",
    "        print(reminder)\n",
    "        \n",
    "ask_ok('Do you really want to quit?: ') # giving only the mandatory argument\n",
    "ask_ok('OK to overwrite the file?: ', 2, 'Come on, only yes or no!') # giving all arguments"
   ]
  },
  {
   "cell_type": "markdown",
   "metadata": {},
   "source": [
    "## Mathematics and Statistics packages\n",
    "\n",
    "In research we will inevitably have to do some statistics. It is good to know how we can do mathematics and statistics operation with Python. As we are using Anaconda which already installed most required packages, so you do not need to install additional package here.\n",
    "\n",
    "- The packages we will learn today are `numpy`, `pandas` and `matplotlib`."
   ]
  },
  {
   "cell_type": "markdown",
   "metadata": {},
   "source": [
    "### NumPy\n",
    "\n",
    "NumPy is a python library to help dealing with mathematics especially array. As it can do so many things, the examples listed below may not be able to cover all. For more information, you can visit [NumPy's official tutorial](https://docs.scipy.org/doc/numpy-dev/user/quickstart.html)."
   ]
  },
  {
   "cell_type": "code",
   "execution_count": null,
   "metadata": {},
   "outputs": [],
   "source": [
    "import numpy as np\n",
    "\n",
    "# create array of range [0, 15)\n",
    "a = np.arange(15)\n",
    "print(\"basic array:\", a)\n",
    "\n",
    "# reshape array\n",
    "print(\"\\nreshaped:\", a.reshape([3, 5]))\n",
    "\n",
    "# or do it at once\n",
    "print(\"\\nall at once:\", np.arange(15).reshape([3, 5]))"
   ]
  },
  {
   "cell_type": "code",
   "execution_count": null,
   "metadata": {},
   "outputs": [],
   "source": [
    "# create array from list\n",
    "mylist = [1,2,3,4]\n",
    "print(\"array from list:\", np.array(mylist))\n",
    "\n",
    "# create 2d array\n",
    "print(\"\\n2d array:\", np.array([mylist, mylist]))\n",
    "print(\"\\ncheck dimension:\", np.array([mylist, mylist]).shape, \"<- 2 rows 4 columns\")"
   ]
  },
  {
   "cell_type": "code",
   "execution_count": null,
   "metadata": {},
   "outputs": [],
   "source": [
    "# create array of ones\n",
    "print(\"array of ones:\", np.ones([3,3]))\n",
    "\n",
    "# create array of zeros\n",
    "print(\"\\narray of zeros:\", np.zeros([5,5]))\n",
    "\n",
    "# some constants\n",
    "print(\"\\npi:\", np.pi)\n",
    "print(\"e:\", np.e)\n",
    "\n",
    "# basic arithmetics\n",
    "print(\"\\nsum, 1+2+3+4+5:\", np.sum([1,2,3,4,5]))\n",
    "print(\"power, 2^8:\", np.power(2, 8))"
   ]
  },
  {
   "cell_type": "markdown",
   "metadata": {},
   "source": [
    "### pandas\n",
    "\n",
    "pandas is an easy-to-use python library for data structures and data analysis. pandas implements a number of statistical functions that can be used in research. You can learn more about pandas in these pandas's official quick start tutorials:\n",
    "\n",
    "- [10 mins tutorials](https://pandas.pydata.org/pandas-docs/stable/10min.html#min)\n",
    "- [pandas tutorials](https://pandas.pydata.org/pandas-docs/stable/tutorials.html)"
   ]
  },
  {
   "cell_type": "code",
   "execution_count": null,
   "metadata": {},
   "outputs": [],
   "source": [
    "import pandas as pd\n",
    "#create dataframe\n",
    "df_for_scatter = pd.DataFrame(np.random.rand(5,2), columns=['col1','col2'])\n",
    "df_for_bar = pd.DataFrame(np.random.rand(5, 1), columns=['col1'])\n",
    "df_for_line = pd.DataFrame(np.random.rand(100, 1), columns=['col1'])\n",
    "\n",
    "print(\"scatter dataframe:\\n\",df_for_scatter,\"\\n\")\n",
    "print(\"bar dataframe:\\n\",df_for_bar,\"\\n\")\n",
    "print(\"line dataframe:\\n\",df_for_line,\"\\n\")"
   ]
  },
  {
   "cell_type": "code",
   "execution_count": null,
   "metadata": {},
   "outputs": [],
   "source": [
    "# we can also see dataframe rendered as HTML\n",
    "df_for_scatter"
   ]
  },
  {
   "cell_type": "code",
   "execution_count": null,
   "metadata": {},
   "outputs": [],
   "source": [
    "# create new dataframe by concatenate existing ones\n",
    "new_df_concat_down = pd.concat([df_for_scatter[3:], df_for_scatter[3:]]) # use [3:] to shorten\n",
    "# notice index start from 3 instead of 0\n",
    "new_df_concat_down"
   ]
  },
  {
   "cell_type": "code",
   "execution_count": null,
   "metadata": {},
   "outputs": [],
   "source": [
    "new_df_concat_side = pd.concat([df_for_scatter, df_for_scatter], axis=1)\n",
    "new_df_concat_side"
   ]
  },
  {
   "cell_type": "markdown",
   "metadata": {},
   "source": [
    "### Matplotlib\n",
    "\n",
    "Matplotlib is a popular Python 2D plotting library. You can do most of data visualization using Matplotlib. pandas plotting methods also use Matplotlib as a based tool.\n",
    "\n",
    "- [Pyplot tutorial by matplotlib.org](https://matplotlib.org/tutorials/introductory/pyplot.html)\n",
    "- [Matplotlib tutorial by Nicolas P. Rougier](https://www.labri.fr/perso/nrougier/teaching/matplotlib/)"
   ]
  },
  {
   "cell_type": "code",
   "execution_count": null,
   "metadata": {},
   "outputs": [],
   "source": [
    "import matplotlib.pyplot as plt\n",
    "%matplotlib inline\n",
    "\n",
    "plt.plot(df_for_line)\n",
    "plt.title('Line plot')\n",
    "plt.figure()\n",
    "\n",
    "plt.scatter(df_for_scatter.col1, df_for_scatter.col2)\n",
    "plt.title('Scatter plot')\n",
    "plt.figure()\n",
    "\n",
    "plt.bar(df_for_bar.index, df_for_bar.col1)\n",
    "plt.title('Bar plot')\n",
    "plt.figure()\n",
    "\n",
    "from skimage import data\n",
    "\n",
    "plt.imshow(data.chelsea())"
   ]
  },
  {
   "cell_type": "markdown",
   "metadata": {},
   "source": [
    "# Mini challenge\n",
    "\n",
    "- [Click here to open mini challenge notebook.](MiniChallenge.ipynb)"
   ]
  },
  {
   "cell_type": "markdown",
   "metadata": {},
   "source": [
    "# FAQs\n",
    "\n",
    "- **How should I search when I am stuck?**\n",
    "    - You can use google with specific keywords. For example, if you are doing some table processing using `pandas`, you should include `pandas` in keyword instead of `python`.\n",
    "    \n",
    "    \n",
    "- **What sources from search results should I set higher priority to check out?**\n",
    "    - This can be various, but first top focus should include **StackOverflow**, **GitHub**, and official sites of Python or packages in question."
   ]
  },
  {
   "cell_type": "markdown",
   "metadata": {},
   "source": [
    "# Learning Materials\n",
    "\n",
    "- [Official Python tutorial](https://docs.python.org/3/tutorial/)\n",
    "- [Chula's Python 101](https://www.cp.eng.chula.ac.th/books/python101/)"
   ]
  }
 ],
 "metadata": {
  "kernelspec": {
   "display_name": "Python 3",
   "language": "python",
   "name": "python3"
  },
  "language_info": {
   "codemirror_mode": {
    "name": "ipython",
    "version": 3
   },
   "file_extension": ".py",
   "mimetype": "text/x-python",
   "name": "python",
   "nbconvert_exporter": "python",
   "pygments_lexer": "ipython3",
   "version": "3.7.2"
  }
 },
 "nbformat": 4,
 "nbformat_minor": 2
}
