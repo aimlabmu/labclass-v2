{
 "cells": [
  {
   "cell_type": "markdown",
   "metadata": {},
   "source": [
    "# Mini Challenge"
   ]
  },
  {
   "cell_type": "markdown",
   "metadata": {},
   "source": [
    "## Question1: Likes"
   ]
  },
  {
   "cell_type": "markdown",
   "metadata": {},
   "source": [
    "You probably know the \"like\" system from Facebook and other pages. People can \"like\" blog posts, pictures or other items. We want to create the text that should be displayed next to such an item.\n",
    "\n",
    "Implement a function likes :: [String] -> String, which must take in input array, containing the names of people who like an item. It must return the display text as shown in the examples:\n",
    "\n",
    "- likes([]) // must be \"no one likes this\"\n",
    "- likes([\"Peter\"]) // must be \"Peter likes this\"\n",
    "- likes([\"Jacob\", \"Alex\"]) // must be \"Jacob and Alex like this\"\n",
    "- likes([\"Max\", \"John\", \"Mark\"]) // must be \"Max, John and Mark like this\"\n",
    "- likes([\"Alex\", \"Jacob\", \"Mark\", \"Max\"]) // must be \"Alex, Jacob and 2 others like this\"\n"
   ]
  },
  {
   "cell_type": "code",
   "execution_count": null,
   "metadata": {
    "scrolled": false
   },
   "outputs": [],
   "source": [
    "def likes(args):\n",
    "    # type your code here\n",
    "\n",
    "# testing\n",
    "likes([])\n",
    "likes([\"Peter\"])\n",
    "likes([\"Jacob\", \"Alex\"])\n",
    "likes([\"Max\", \"John\", \"Mark\"])\n",
    "likes([\"Alex\", \"Jacob\", \"Mark\", \"Max\"])"
   ]
  },
  {
   "cell_type": "markdown",
   "metadata": {},
   "source": [
    "## Question2: Phone Number"
   ]
  },
  {
   "cell_type": "markdown",
   "metadata": {},
   "source": [
    "Write a function that accepts an array of 10 integers (between 0 and 9), that returns a string of those numbers in the form of a phone number.\n",
    "\n",
    "Example:\n",
    "create_phone_number([1, 2, 3, 4, 5, 6, 7, 8, 9, 0]) # => returns \"(123) 456-7890\"\n"
   ]
  },
  {
   "cell_type": "code",
   "execution_count": null,
   "metadata": {},
   "outputs": [],
   "source": [
    "def create_phone_number(number):\n",
    "    # type your code here\n",
    "\n",
    "# testing\n",
    "create_phone_number([1, 2, 3, 4, 5, 6, 7, 8, 9, 0])\n",
    "create_phone_number([0, 9, 2, 8, 7, 6, 5, 4, 3, 0])"
   ]
  },
  {
   "cell_type": "markdown",
   "metadata": {},
   "source": [
    "## Question3: Find It"
   ]
  },
  {
   "cell_type": "markdown",
   "metadata": {},
   "source": [
    "Given an array, find the int that appears an odd number of times.\n",
    "\n",
    "There will always be only one integer that appears an odd number of times."
   ]
  },
  {
   "cell_type": "code",
   "execution_count": null,
   "metadata": {},
   "outputs": [],
   "source": [
    "\n",
    "# testing\n",
    "find_it([20,1,-1,2,-2,3,3,5,5,1,2,4,20,4,-1,-2,5]) # 5"
   ]
  },
  {
   "cell_type": "markdown",
   "metadata": {},
   "source": [
    "## Question4: Find Outlier"
   ]
  },
  {
   "cell_type": "markdown",
   "metadata": {},
   "source": [
    "You are given an array (which will have a length of at least 3, but could be very large) containing integers. The array is either entirely comprised of odd integers or entirely comprised of even integers except for a single integer N. Write a method that takes the array as an argument and returns this \"outlier\" N.\n",
    "\n",
    "Examples:\n",
    "\n",
    "[2, 4, 0, 100, 4, 11, 2602, 36]\n",
    "Should return: 11 (the only odd number)\n",
    "\n",
    "[160, 3, 1719, 19, 11, 13, -21]\n",
    "Should return: 160 (the only even number)\n"
   ]
  },
  {
   "cell_type": "code",
   "execution_count": null,
   "metadata": {},
   "outputs": [],
   "source": [
    "\n",
    "## testing\n",
    "find_outlier([2, 4, 6, 8, 10, 3])\n",
    "find_outlier([2, 4, 0, 100, 4, 11, 2602, 36])\n",
    "find_outlier([160, 3, 1719, 19, 11, 13, -21])"
   ]
  }
 ],
 "metadata": {
  "kernelspec": {
   "display_name": "Python 3",
   "language": "python",
   "name": "python3"
  },
  "language_info": {
   "codemirror_mode": {
    "name": "ipython",
    "version": 3
   },
   "file_extension": ".py",
   "mimetype": "text/x-python",
   "name": "python",
   "nbconvert_exporter": "python",
   "pygments_lexer": "ipython3",
   "version": "3.6.4"
  }
 },
 "nbformat": 4,
 "nbformat_minor": 2
}
